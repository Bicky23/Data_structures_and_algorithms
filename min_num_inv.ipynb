{
 "cells": [
  {
   "cell_type": "code",
   "execution_count": 19,
   "metadata": {},
   "outputs": [],
   "source": [
    "def merge(left, right):\n",
    "    # empty merged list\n",
    "    merged = [] \n",
    "    count = 0\n",
    "    ''' For both the sorted lists, compare their first element,\n",
    "    then remove the element which is smaller and put it in the merged list '''\n",
    "    while len(left) and len(right):\n",
    "        if left[0] <= right[0]:\n",
    "            merged.append(left[0])\n",
    "            left.pop(0)\n",
    "        else:\n",
    "            merged.append(right[0])\n",
    "            right.pop(0)\n",
    "            count += 1\n",
    "\n",
    "    # check for remaining values in left\n",
    "    if len(left):\n",
    "        merged.extend(left)\n",
    "    # check for remaining values in right\n",
    "    if len(right):\n",
    "        merged.extend(right)\n",
    "    return merged\n",
    "\n",
    "def merge_sort(array):\n",
    "    # base case\n",
    "    if len(array) <= 1: \n",
    "        return array\n",
    "\n",
    "    # split into two and recurse\n",
    "    mid = len(array) // 2\n",
    "    left = merge_sort(array[:mid])\n",
    "    right = merge_sort(array[mid:])\n",
    "    print('Splitting', left, right)\n",
    "    # merge and return\n",
    "    return merge(left, right)"
   ]
  },
  {
   "cell_type": "code",
   "execution_count": 20,
   "metadata": {},
   "outputs": [
    {
     "name": "stdout",
     "output_type": "stream",
     "text": [
      "Splitting [4] [2]\n",
      "Splitting [1] [2, 4]\n",
      "Splitting [3] [6]\n",
      "Splitting [7] [10]\n",
      "Splitting [3, 6] [7, 10]\n",
      "Splitting [1, 2, 4] [3, 6, 7, 10]\n"
     ]
    },
    {
     "data": {
      "text/plain": [
       "[1, 2, 3, 4, 6, 7, 10]"
      ]
     },
     "execution_count": 20,
     "metadata": {},
     "output_type": "execute_result"
    }
   ],
   "source": [
    "merge_sort([1,4,2,3,6,7,10])"
   ]
  },
  {
   "cell_type": "code",
   "execution_count": null,
   "metadata": {},
   "outputs": [],
   "source": []
  }
 ],
 "metadata": {
  "kernelspec": {
   "display_name": "Python 3",
   "language": "python",
   "name": "python3"
  },
  "language_info": {
   "codemirror_mode": {
    "name": "ipython",
    "version": 3
   },
   "file_extension": ".py",
   "mimetype": "text/x-python",
   "name": "python",
   "nbconvert_exporter": "python",
   "pygments_lexer": "ipython3",
   "version": "3.6.6"
  }
 },
 "nbformat": 4,
 "nbformat_minor": 2
}
