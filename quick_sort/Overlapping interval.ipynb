{
 "cells": [
  {
   "cell_type": "code",
   "execution_count": 1,
   "metadata": {},
   "outputs": [],
   "source": [
    "# import custom quicksort algorithm\n",
    "from quick_sort_inplace_2 import quicksort\n",
    "\n",
    "# read file\n",
    "file = open('input', 'r')\n",
    "message = file.readlines()\n",
    "\n",
    "# clean lines containing ranges\n",
    "def clean(num, message):\n",
    "    line = message[num]\n",
    "    init = line.strip().split(',')\n",
    "    mid = [i.split() for i in init]\n",
    "    final = [[int(i) for i in mid[k]] for k in range(len(mid))]\n",
    "    return final\n",
    "\n",
    "# sort ranges according to the first element\n",
    "def sort_start(ranges):\n",
    "    return quicksort([[i[0], i[1]] for i in ranges])\n",
    "\n",
    "# overlap check between two successive ranges\n",
    "def overlap(ranges):\n",
    "    count = 0\n",
    "    for i in range(len(ranges)-1):\n",
    "        end_prev = ranges[i][1]\n",
    "        start_next = ranges[i+1][0]\n",
    "        if end_prev >= start_next:\n",
    "            return \"YES\"\n",
    "            break\n",
    "        else:\n",
    "            count += 1\n",
    "    if count == len(ranges) - 1:\n",
    "        return \"NO\""
   ]
  },
  {
   "cell_type": "code",
   "execution_count": 2,
   "metadata": {},
   "outputs": [
    {
     "data": {
      "text/plain": [
       "'YES'"
      ]
     },
     "execution_count": 2,
     "metadata": {},
     "output_type": "execute_result"
    }
   ],
   "source": [
    "test2 = clean(4, message)\n",
    "sorted_test2 = sort_start(test2)\n",
    "overlap(sorted_test2)"
   ]
  },
  {
   "cell_type": "code",
   "execution_count": 3,
   "metadata": {},
   "outputs": [
    {
     "data": {
      "text/plain": [
       "'NO'"
      ]
     },
     "execution_count": 3,
     "metadata": {},
     "output_type": "execute_result"
    }
   ],
   "source": [
    "test4 = clean(8, message)\n",
    "sorted_test4 = sort_start(test4)\n",
    "overlap(sorted_test4)"
   ]
  },
  {
   "cell_type": "code",
   "execution_count": 4,
   "metadata": {},
   "outputs": [
    {
     "data": {
      "text/plain": [
       "'YES'"
      ]
     },
     "execution_count": 4,
     "metadata": {},
     "output_type": "execute_result"
    }
   ],
   "source": [
    "test6 = clean(12, message)\n",
    "sorted_test6 = sort_start(test6)\n",
    "overlap(sorted_test6)"
   ]
  },
  {
   "cell_type": "code",
   "execution_count": 5,
   "metadata": {},
   "outputs": [
    {
     "data": {
      "text/plain": [
       "'YES'"
      ]
     },
     "execution_count": 5,
     "metadata": {},
     "output_type": "execute_result"
    }
   ],
   "source": [
    "test8 = clean(16, message)\n",
    "sorted_test8 = sort_start(test8)\n",
    "overlap(sorted_test8)"
   ]
  },
  {
   "cell_type": "code",
   "execution_count": 6,
   "metadata": {},
   "outputs": [
    {
     "data": {
      "text/plain": [
       "'NO'"
      ]
     },
     "execution_count": 6,
     "metadata": {},
     "output_type": "execute_result"
    }
   ],
   "source": [
    "test10 = clean(20, message)\n",
    "sorted_test10 = sort_start(test10)\n",
    "overlap(sorted_test10)"
   ]
  },
  {
   "cell_type": "code",
   "execution_count": 7,
   "metadata": {},
   "outputs": [
    {
     "data": {
      "text/plain": [
       "'YES'"
      ]
     },
     "execution_count": 7,
     "metadata": {},
     "output_type": "execute_result"
    }
   ],
   "source": [
    "test12 = clean(24, message)\n",
    "sorted_test12 = sort_start(test12)\n",
    "overlap(sorted_test12)"
   ]
  },
  {
   "cell_type": "code",
   "execution_count": 8,
   "metadata": {},
   "outputs": [
    {
     "data": {
      "text/plain": [
       "'YES'"
      ]
     },
     "execution_count": 8,
     "metadata": {},
     "output_type": "execute_result"
    }
   ],
   "source": [
    "test14 = clean(28, message)\n",
    "sorted_test14 = sort_start(test14)\n",
    "overlap(sorted_test14)"
   ]
  },
  {
   "cell_type": "code",
   "execution_count": 9,
   "metadata": {},
   "outputs": [
    {
     "data": {
      "text/plain": [
       "'YES'"
      ]
     },
     "execution_count": 9,
     "metadata": {},
     "output_type": "execute_result"
    }
   ],
   "source": [
    "test16 = clean(32, message)\n",
    "sorted_test16 = sort_start(test16)\n",
    "overlap(sorted_test16)"
   ]
  },
  {
   "cell_type": "code",
   "execution_count": 10,
   "metadata": {},
   "outputs": [
    {
     "data": {
      "text/plain": [
       "'YES'"
      ]
     },
     "execution_count": 10,
     "metadata": {},
     "output_type": "execute_result"
    }
   ],
   "source": [
    "test18 = clean(36, message)\n",
    "sorted_test18 = sort_start(test18)\n",
    "overlap(sorted_test18)"
   ]
  },
  {
   "cell_type": "code",
   "execution_count": 11,
   "metadata": {},
   "outputs": [
    {
     "data": {
      "text/plain": [
       "'NO'"
      ]
     },
     "execution_count": 11,
     "metadata": {},
     "output_type": "execute_result"
    }
   ],
   "source": [
    "test20 = clean(40, message)\n",
    "sorted_test20 = sort_start(test20)\n",
    "overlap(sorted_test20)"
   ]
  },
  {
   "cell_type": "code",
   "execution_count": 12,
   "metadata": {},
   "outputs": [
    {
     "data": {
      "text/plain": [
       "'YES'"
      ]
     },
     "execution_count": 12,
     "metadata": {},
     "output_type": "execute_result"
    }
   ],
   "source": [
    "test22 = clean(44, message)\n",
    "sorted_test22 = sort_start(test22)\n",
    "overlap(sorted_test22)"
   ]
  },
  {
   "cell_type": "code",
   "execution_count": null,
   "metadata": {},
   "outputs": [],
   "source": []
  }
 ],
 "metadata": {
  "kernelspec": {
   "display_name": "Python 3",
   "language": "python",
   "name": "python3"
  },
  "language_info": {
   "codemirror_mode": {
    "name": "ipython",
    "version": 3
   },
   "file_extension": ".py",
   "mimetype": "text/x-python",
   "name": "python",
   "nbconvert_exporter": "python",
   "pygments_lexer": "ipython3",
   "version": "3.6.6"
  }
 },
 "nbformat": 4,
 "nbformat_minor": 2
}
