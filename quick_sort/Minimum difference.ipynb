{
 "cells": [
  {
   "cell_type": "code",
   "execution_count": 1,
   "metadata": {},
   "outputs": [
    {
     "name": "stdout",
     "output_type": "stream",
     "text": [
      "Minimum difference for Test Case 1 is: 7\n",
      "Minimum difference for Test Case 2 is: 134\n",
      "Minimum difference for Test Case 3 is: 1708\n",
      "Minimum difference for Test Case 4 is: 1954\n",
      "Minimum difference for Test Case 5 is: 13911\n",
      "Minimum difference for Test Case 6 is: 85400\n",
      "Minimum difference for Test Case 7 is: 214873\n",
      "Minimum difference for Test Case 8 is: 806836\n",
      "Minimum difference for Test Case 9 is: 1503942\n",
      "Minimum difference for Test Case 10 is: 10856204\n",
      "Minimum difference for Test Case 11 is: 25910756\n"
     ]
    }
   ],
   "source": [
    "# open file\n",
    "file = open('input_2', 'r')\n",
    "message = file.readlines()\n",
    "\n",
    "# get K elements to be taken as combination\n",
    "def getK(line, num):\n",
    "    return int(line[num].strip().split()[1])\n",
    "\n",
    "# get array \n",
    "def clean(line, num):\n",
    "    return list(map(int, line[num].strip().split()))\n",
    "\n",
    "# get solutions for test cases\n",
    "init = 1\n",
    "for i in range(1, len(message), 2):\n",
    "    K = getK(message, i)\n",
    "    array = sorted(clean(message, i+1))\n",
    "    n = len(array)\n",
    "    diff = min([array[i+K-1] -  array[i] for i in range(n-K+1)])\n",
    "    print(\"Minimum difference for Test Case {} is:\".format(init), diff)\n",
    "    init += 1"
   ]
  },
  {
   "cell_type": "code",
   "execution_count": null,
   "metadata": {},
   "outputs": [],
   "source": []
  }
 ],
 "metadata": {
  "kernelspec": {
   "display_name": "Python 3",
   "language": "python",
   "name": "python3"
  },
  "language_info": {
   "codemirror_mode": {
    "name": "ipython",
    "version": 3
   },
   "file_extension": ".py",
   "mimetype": "text/x-python",
   "name": "python",
   "nbconvert_exporter": "python",
   "pygments_lexer": "ipython3",
   "version": "3.6.6"
  }
 },
 "nbformat": 4,
 "nbformat_minor": 2
}
